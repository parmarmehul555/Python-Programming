{
 "cells": [
  {
   "cell_type": "markdown",
   "metadata": {},
   "source": [
    "<a href='https://www.darshan.ac.in/'> <img src='https://www.darshan.ac.in/Content/media/DU_Logo.svg' width=\"250\" height=\"300\"/></a>\n",
    "<pre>\n",
    "<center><b><h1>Python Programming - 2101CS405</b></center>\n",
    "<center><b><h1>Lab - 1</b></center>\n",
    "<center><h2><b style=\"color:red\">Mehul Parmar</b></h2></center>\n",
    "<center><h3 style=\"color:red\"><b>22010101134</b></h3></center>    \n",
    "<pre>"
   ]
  },
  {
   "cell_type": "markdown",
   "metadata": {},
   "source": [
    "### 01) WAP to print “Hello World”"
   ]
  },
  {
   "cell_type": "code",
   "execution_count": 1,
   "metadata": {},
   "outputs": [
    {
     "name": "stdout",
     "output_type": "stream",
     "text": [
      "Hello World\n"
     ]
    }
   ],
   "source": [
    "print(\"Hello World\")"
   ]
  },
  {
   "cell_type": "markdown",
   "metadata": {},
   "source": [
    "### 02) WAP to print your address i) using single print ii) using multiple print"
   ]
  },
  {
   "cell_type": "code",
   "execution_count": 13,
   "metadata": {},
   "outputs": [
    {
     "name": "stdout",
     "output_type": "stream",
     "text": [
      "Sadguru Society,\n",
      "Street no 2,\n",
      "Santkabir Road,\n",
      "Rajkot-360003.\n",
      "\n",
      "Sadguru society,\n",
      "Street no 2,\n",
      "Santkabir road,\n",
      "Rajkot 360003.\n"
     ]
    }
   ],
   "source": [
    "print(\"Sadguru Society\",\"Street no 2\",\"Santkabir Road\",\"Rajkot-360003\",sep=\",\\n\",end=\".\")\n",
    "print(\"\\n\")\n",
    "print(\"Sadguru society,\")\n",
    "print(\"Street no 2,\")\n",
    "print(\"Santkabir road,\")\n",
    "print(\"Rajkot 360003.\")"
   ]
  },
  {
   "cell_type": "markdown",
   "metadata": {},
   "source": [
    "### 03) WAP to print addition of 2 numbers (without input function)"
   ]
  },
  {
   "cell_type": "code",
   "execution_count": 15,
   "metadata": {},
   "outputs": [
    {
     "name": "stdout",
     "output_type": "stream",
     "text": [
      "Addition of 20 and 5 is 25\n"
     ]
    }
   ],
   "source": [
    "a = 20\n",
    "b = 5\n",
    "print(f\"Addition of {a} and {b} is {a+b}\")"
   ]
  },
  {
   "cell_type": "markdown",
   "metadata": {},
   "source": [
    "### 04) WAP to calculate and print average of 2 numbers (without input function)"
   ]
  },
  {
   "cell_type": "code",
   "execution_count": 18,
   "metadata": {},
   "outputs": [
    {
     "name": "stdout",
     "output_type": "stream",
     "text": [
      "Average of two number is 8.0\n"
     ]
    }
   ],
   "source": [
    "a = 12\n",
    "b = 4\n",
    "print(f\"Average of two number is {(a+b)/2}\")"
   ]
  },
  {
   "cell_type": "markdown",
   "metadata": {},
   "source": [
    "### 05) WAP to add two number entered by user."
   ]
  },
  {
   "cell_type": "code",
   "execution_count": 20,
   "metadata": {},
   "outputs": [
    {
     "name": "stdout",
     "output_type": "stream",
     "text": [
      "Enter first number : 5\n",
      "Enter second number : 10\n",
      "Addition of 5 and 10 is 15\n"
     ]
    }
   ],
   "source": [
    "a = int(input(\"Enter first number : \"))\n",
    "b = int(input(\"Enter second number : \"))\n",
    "\n",
    "print(f\"Addition of {a} and {b} is {a+b}\")"
   ]
  },
  {
   "cell_type": "markdown",
   "metadata": {},
   "source": [
    "### 06) WAP to calculate simple interest."
   ]
  },
  {
   "cell_type": "code",
   "execution_count": 23,
   "metadata": {},
   "outputs": [
    {
     "name": "stdout",
     "output_type": "stream",
     "text": [
      "Enter  P : 10\n",
      "Enter  R : 5\n",
      "Enter  N : 10\n",
      "Simple interst is 5.0\n"
     ]
    }
   ],
   "source": [
    "a = float(input(\"Enter  P : \"))\n",
    "b = float(input(\"Enter  R : \"))\n",
    "c = float(input(\"Enter  N : \"))\n",
    "\n",
    "print(f\"Simple interst is {(a*b*c)/100}\")"
   ]
  },
  {
   "cell_type": "markdown",
   "metadata": {},
   "source": [
    "### 07) WAP Calculate Area and Circumfrence of Circle"
   ]
  },
  {
   "cell_type": "code",
   "execution_count": 26,
   "metadata": {},
   "outputs": [
    {
     "name": "stdout",
     "output_type": "stream",
     "text": [
      "Ener radius 5\n",
      "Area is 78.53981633974483\n"
     ]
    }
   ],
   "source": [
    "import math\n",
    "pi = math.pi\n",
    "\n",
    "radius = (float)(input(\"Ener radius \"))\n",
    "print(f\"Area is {pi*radius*radius}\")"
   ]
  },
  {
   "cell_type": "markdown",
   "metadata": {},
   "source": [
    "### 08) WAP to print Multiplication table of given number without using loops."
   ]
  },
  {
   "cell_type": "code",
   "execution_count": 29,
   "metadata": {},
   "outputs": [
    {
     "name": "stdout",
     "output_type": "stream",
     "text": [
      "Enter number to print table 5\n",
      "5X1=5\n",
      "5X2=10\n",
      "5X3=15\n",
      "5X4=20\n",
      "5X5=25\n",
      "5X6=30\n",
      "5X7=35\n",
      "5X8=40\n",
      "5X9=45\n",
      "5X10=50\n"
     ]
    }
   ],
   "source": [
    "a = (int)(input(\"Enter number to print table \"))\n",
    "\n",
    "print(f\"{a}X1={a*1}\")\n",
    "print(f\"{a}X2={a*2}\")\n",
    "print(f\"{a}X3={a*3}\")\n",
    "print(f\"{a}X4={a*4}\")\n",
    "print(f\"{a}X5={a*5}\")\n",
    "print(f\"{a}X6={a*6}\")\n",
    "print(f\"{a}X7={a*7}\")\n",
    "print(f\"{a}X8={a*8}\")\n",
    "print(f\"{a}X9={a*9}\")\n",
    "print(f\"{a}X10={a*10}\")"
   ]
  },
  {
   "cell_type": "markdown",
   "metadata": {},
   "source": [
    "### 09) WAP to calculate Area of Triangle (hint: a = h * b * 0.5)"
   ]
  },
  {
   "cell_type": "code",
   "execution_count": 30,
   "metadata": {},
   "outputs": [
    {
     "name": "stdout",
     "output_type": "stream",
     "text": [
      "Enter height : 5\n",
      "Enter base : 10\n",
      "Area of tringle is 25.0\n"
     ]
    }
   ],
   "source": [
    "h = (float)(input(\"Enter height : \"))\n",
    "b = (float)(input(\"Enter base : \"))\n",
    "\n",
    "print(f\"Area of tringle is {h*b*0.5}\")"
   ]
  },
  {
   "cell_type": "markdown",
   "metadata": {},
   "source": [
    "### 10) WAP to convert degree to Fahrenheit and vice versa."
   ]
  },
  {
   "cell_type": "code",
   "execution_count": 32,
   "metadata": {},
   "outputs": [
    {
     "name": "stdout",
     "output_type": "stream",
     "text": [
      "Enter tempreture in degree : 32\n",
      "Tempreture in farenhit is 89.6 F\n",
      "Enter tempreture in faranhit : 32\n",
      "Temreture in celcius is 0.0 C\n"
     ]
    }
   ],
   "source": [
    "degree  = (float)(input(\"Enter tempreture in degree : \"))\n",
    "print(f\"Tempreture in farenhit is {((9*degree)/5)+32} F\")\n",
    "franhit = (float)(input(\"Enter tempreture in faranhit : \"))\n",
    "print(f\"Temreture in celcius is {((franhit-32)*5)/9} C\")"
   ]
  },
  {
   "cell_type": "markdown",
   "metadata": {},
   "source": [
    "### 11) WAP to calculate total marks and Percentage."
   ]
  },
  {
   "cell_type": "code",
   "execution_count": 36,
   "metadata": {},
   "outputs": [
    {
     "name": "stdout",
     "output_type": "stream",
     "text": [
      "Enter WT marks : 98\n",
      "Enter DBMS marks : 96\n",
      "Enter JAVA marks : 89\n",
      "Enter DSA marks : 78\n",
      "Enter Python marks : 96\n",
      "Your total marks is 457\n",
      "Your result is 91.4\n"
     ]
    }
   ],
   "source": [
    "marks1 = (int)(input(\"Enter WT marks : \"))\n",
    "marks2 = (int)(input(\"Enter DBMS marks : \"))\n",
    "marks3 = (int)(input(\"Enter JAVA marks : \"))\n",
    "marks4 = (int)(input(\"Enter DSA marks : \"))\n",
    "marks5 = (int)(input(\"Enter Python marks : \"))\n",
    "\n",
    "print(f\"Your total marks is {marks1+marks2+marks3+marks4+marks5}\")\n",
    "print(f\"Your result is {(marks1+marks2+marks3+marks4+marks5)/5}\")"
   ]
  },
  {
   "cell_type": "markdown",
   "metadata": {},
   "source": [
    "### 12) Compute distance between two points taking input from the user (Pythagorean Theorem)."
   ]
  },
  {
   "cell_type": "code",
   "execution_count": 38,
   "metadata": {},
   "outputs": [
    {
     "name": "stdout",
     "output_type": "stream",
     "text": [
      "Enter first point : 3\n",
      "Enter second point : 4\n",
      "Distance between 3 & 4 is 5.0\n"
     ]
    }
   ],
   "source": [
    "a = int(input(\"Enter first point : \"))\n",
    "b = int(input(\"Enter second point : \"))\n",
    "\n",
    "print(f\"Distance between {a} & {b} is {math.sqrt((a*a)+(b*b))}\")"
   ]
  },
  {
   "cell_type": "markdown",
   "metadata": {},
   "source": [
    "### 13) WAP to convert seconds into hours, minutes & seconds and print in HH:MM:SS\n",
    "[e.g. 10000 seconds mean 2:46:40 (2 Hours, 46 Minutes, 40Seconds)]"
   ]
  },
  {
   "cell_type": "code",
   "execution_count": 46,
   "metadata": {},
   "outputs": [
    {
     "name": "stdout",
     "output_type": "stream",
     "text": [
      "Enter seconds 10000\n",
      "2:46:40\n"
     ]
    }
   ],
   "source": [
    "sec = (int)(input(\"Enter seconds \"))\n",
    "hours = (int)(sec / 3600)\n",
    "minutes = (int)((sec-hours*3600)/60)\n",
    "seconds = (int)(sec -( hours * 3600)-minutes*60)\n",
    "print(hours,minutes,seconds,sep=\":\")"
   ]
  },
  {
   "cell_type": "markdown",
   "metadata": {},
   "source": [
    "### 14) WAP to enter distance into kilometer and convert it into meter, feet,inches, and centimeter"
   ]
  },
  {
   "cell_type": "code",
   "execution_count": 1,
   "metadata": {},
   "outputs": [
    {
     "name": "stdout",
     "output_type": "stream",
     "text": [
      "1.0 in meters is 1000.0\n",
      "1.0 in feet is 3280.84\n",
      "1.0 in inches is 39370.08\n",
      "1.0 in centimeter is 100000.0\n"
     ]
    }
   ],
   "source": [
    "distance = (float)(input(\"Enter distance in kilometer : \"))\n",
    "\n",
    "print(f\"{distance} in meters is {(distance)*1000}\")\n",
    "print(f\"{distance} in feet is {distance*3280.84}\")\n",
    "print(f\"{distance} in inches is {distance*39370.08}\")\n",
    "print(f\"{distance} in centimeter is {distance*100000}\")"
   ]
  },
  {
   "cell_type": "code",
   "execution_count": null,
   "metadata": {},
   "outputs": [],
   "source": []
  }
 ],
 "metadata": {
  "kernelspec": {
   "display_name": "Python 3 (ipykernel)",
   "language": "python",
   "name": "python3"
  },
  "language_info": {
   "codemirror_mode": {
    "name": "ipython",
    "version": 3
   },
   "file_extension": ".py",
   "mimetype": "text/x-python",
   "name": "python",
   "nbconvert_exporter": "python",
   "pygments_lexer": "ipython3",
   "version": "3.11.5"
  },
  "vscode": {
   "interpreter": {
    "hash": "31f2aee4e71d21fbe5cf8b01ff0e069b9275f58929596ceb00d14d90e3e16cd6"
   }
  }
 },
 "nbformat": 4,
 "nbformat_minor": 4
}
